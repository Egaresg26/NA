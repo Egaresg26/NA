{
 "cells": [
  {
   "cell_type": "code",
   "execution_count": 71,
   "id": "dc1e8c51",
   "metadata": {
    "scrolled": true
   },
   "outputs": [
    {
     "name": "stdout",
     "output_type": "stream",
     "text": [
      "Collecting paramiko\n",
      "  Downloading paramiko-3.2.0-py3-none-any.whl (224 kB)\n",
      "\u001b[K     |████████████████████████████████| 224 kB 1.3 MB/s eta 0:00:01\n",
      "\u001b[?25hRequirement already satisfied: bcrypt>=3.2 in /home/ega/anaconda3/lib/python3.9/site-packages (from paramiko) (3.2.0)\n",
      "Collecting pynacl>=1.5\n",
      "  Downloading PyNaCl-1.5.0-cp36-abi3-manylinux_2_17_x86_64.manylinux2014_x86_64.manylinux_2_24_x86_64.whl (856 kB)\n",
      "\u001b[K     |████████████████████████████████| 856 kB 1.3 MB/s eta 0:00:01\n",
      "\u001b[?25hRequirement already satisfied: cryptography>=3.3 in /home/ega/anaconda3/lib/python3.9/site-packages (from paramiko) (3.4.8)\n",
      "Requirement already satisfied: cffi>=1.1 in /home/ega/anaconda3/lib/python3.9/site-packages (from bcrypt>=3.2->paramiko) (1.15.0)\n",
      "Requirement already satisfied: six>=1.4.1 in /home/ega/anaconda3/lib/python3.9/site-packages (from bcrypt>=3.2->paramiko) (1.16.0)\n",
      "Requirement already satisfied: pycparser in /home/ega/anaconda3/lib/python3.9/site-packages (from cffi>=1.1->bcrypt>=3.2->paramiko) (2.21)\n",
      "Installing collected packages: pynacl, paramiko\n",
      "Successfully installed paramiko-3.2.0 pynacl-1.5.0\n"
     ]
    }
   ],
   "source": [
    "!pip install paramiko"
   ]
  },
  {
   "cell_type": "code",
   "execution_count": 88,
   "id": "ffb07e8a",
   "metadata": {
    "scrolled": true
   },
   "outputs": [
    {
     "data": {
      "text/html": [
       "<div>\n",
       "<style scoped>\n",
       "    .dataframe tbody tr th:only-of-type {\n",
       "        vertical-align: middle;\n",
       "    }\n",
       "\n",
       "    .dataframe tbody tr th {\n",
       "        vertical-align: top;\n",
       "    }\n",
       "\n",
       "    .dataframe thead th {\n",
       "        text-align: right;\n",
       "    }\n",
       "</style>\n",
       "<table border=\"1\" class=\"dataframe\">\n",
       "  <thead>\n",
       "    <tr style=\"text-align: right;\">\n",
       "      <th></th>\n",
       "      <th>intreface</th>\n",
       "      <th>ip</th>\n",
       "    </tr>\n",
       "  </thead>\n",
       "  <tbody>\n",
       "    <tr>\n",
       "      <th>0</th>\n",
       "      <td>F1/0</td>\n",
       "      <td>10.10.10.1</td>\n",
       "    </tr>\n",
       "    <tr>\n",
       "      <th>1</th>\n",
       "      <td>F1/1</td>\n",
       "      <td>10.10.11.1</td>\n",
       "    </tr>\n",
       "    <tr>\n",
       "      <th>2</th>\n",
       "      <td>F1/2</td>\n",
       "      <td>10.10.12.1</td>\n",
       "    </tr>\n",
       "    <tr>\n",
       "      <th>3</th>\n",
       "      <td>F1/3</td>\n",
       "      <td>10.10.13.1</td>\n",
       "    </tr>\n",
       "  </tbody>\n",
       "</table>\n",
       "</div>"
      ],
      "text/plain": [
       "  intreface          ip\n",
       "0      F1/0  10.10.10.1\n",
       "1      F1/1  10.10.11.1\n",
       "2      F1/2  10.10.12.1\n",
       "3      F1/3  10.10.13.1"
      ]
     },
     "execution_count": 88,
     "metadata": {},
     "output_type": "execute_result"
    }
   ],
   "source": [
    "import pandas as pd\n",
    "\n",
    "ip = pd.read_csv(\"IP5R.csv\")\n",
    "ipr1 = ip.iloc[:,1:3].loc[0:3]\n",
    "ipr1"
   ]
  },
  {
   "cell_type": "code",
   "execution_count": 107,
   "id": "501ea0b5",
   "metadata": {},
   "outputs": [
    {
     "name": "stdout",
     "output_type": "stream",
     "text": [
      "F1/0\n",
      "F1/1\n",
      "F1/2\n",
      "F1/3\n"
     ]
    }
   ],
   "source": [
    "ip = pd.read_csv(\"IP5R.csv\")\n",
    "ipssh = pd.read_csv(\"ipssh.csv\").iloc[:,1:3]\n",
    "ipr1 = ip.iloc[:,1:3].loc[0:3]\n",
    "ipr2 = ip.iloc[:,1:3].loc[4:7]\n",
    "ipr3 = ip.iloc[:,1:3].loc[8:11]\n",
    "ipr4 = ip.iloc[:,1:3].loc[12:15]\n",
    "ipr5 = ip.iloc[:,1:3].loc[16:20]\n",
    "ipr1 = ip.iloc[:,1:3].loc[0:3]\n",
    "ipr2 = ip.iloc[:,1:3].loc[4:7]\n",
    "ipr3 = ip.iloc[:,1:3].loc[8:11]\n",
    "ipr4 = ip.iloc[:,1:3].loc[12:15]\n",
    "ipr5 = ip.iloc[:,1:3].loc[16:20]\n",
    "\n",
    "ip5r = [ipr1,ipr2,ipr3,ipr4,ipr5]\n",
    "\n",
    "for interface,ip in ipr1.values:\n",
    "    print(interface)"
   ]
  },
  {
   "cell_type": "code",
   "execution_count": 100,
   "id": "8a33b4cd",
   "metadata": {},
   "outputs": [
    {
     "data": {
      "text/html": [
       "<div>\n",
       "<style scoped>\n",
       "    .dataframe tbody tr th:only-of-type {\n",
       "        vertical-align: middle;\n",
       "    }\n",
       "\n",
       "    .dataframe tbody tr th {\n",
       "        vertical-align: top;\n",
       "    }\n",
       "\n",
       "    .dataframe thead th {\n",
       "        text-align: right;\n",
       "    }\n",
       "</style>\n",
       "<table border=\"1\" class=\"dataframe\">\n",
       "  <thead>\n",
       "    <tr style=\"text-align: right;\">\n",
       "      <th></th>\n",
       "      <th>intreface</th>\n",
       "      <th>ip</th>\n",
       "    </tr>\n",
       "  </thead>\n",
       "  <tbody>\n",
       "    <tr>\n",
       "      <th>0</th>\n",
       "      <td>F1/0</td>\n",
       "      <td>10.10.9.2</td>\n",
       "    </tr>\n",
       "    <tr>\n",
       "      <th>1</th>\n",
       "      <td>F1/0</td>\n",
       "      <td>10.10.10.2</td>\n",
       "    </tr>\n",
       "    <tr>\n",
       "      <th>2</th>\n",
       "      <td>F1/0</td>\n",
       "      <td>10.10.11.2</td>\n",
       "    </tr>\n",
       "    <tr>\n",
       "      <th>3</th>\n",
       "      <td>F1/0</td>\n",
       "      <td>10.10.12.2</td>\n",
       "    </tr>\n",
       "    <tr>\n",
       "      <th>4</th>\n",
       "      <td>F1/0</td>\n",
       "      <td>10.10.13.2</td>\n",
       "    </tr>\n",
       "  </tbody>\n",
       "</table>\n",
       "</div>"
      ],
      "text/plain": [
       "  intreface          ip\n",
       "0      F1/0   10.10.9.2\n",
       "1      F1/0  10.10.10.2\n",
       "2      F1/0  10.10.11.2\n",
       "3      F1/0  10.10.12.2\n",
       "4      F1/0  10.10.13.2"
      ]
     },
     "execution_count": 100,
     "metadata": {},
     "output_type": "execute_result"
    }
   ],
   "source": [
    "ipssh"
   ]
  },
  {
   "cell_type": "code",
   "execution_count": 116,
   "id": "13250a91",
   "metadata": {},
   "outputs": [
    {
     "data": {
      "text/plain": [
       "[  intreface          ip\n",
       " 0      F1/0  10.10.10.1\n",
       " 1      F1/1  10.10.11.1\n",
       " 2      F1/2  10.10.12.1\n",
       " 3      F1/3  10.10.13.1,\n",
       "   intreface          ip\n",
       " 4      F1/0  10.10.10.2\n",
       " 5      F1/1  10.10.14.1\n",
       " 6      F1/2  10.10.15.1\n",
       " 7      F1/3  10.10.16.1,\n",
       "    intreface          ip\n",
       " 8       F1/0  10.10.11.2\n",
       " 9       F1/1  10.10.14.2\n",
       " 10      F1/2  10.10.17.1\n",
       " 11      F1/3  10.10.18.1,\n",
       "    intreface          ip\n",
       " 12      F1/0  10.10.12.2\n",
       " 13      F1/1  10.10.15.2\n",
       " 14      F1/2  10.10.17.2\n",
       " 15      F1/3  10.10.19.1,\n",
       "    intreface          ip\n",
       " 16      F1/0  10.10.13.2\n",
       " 17      F1/1  10.10.16.2\n",
       " 18      F1/2  10.10.18.2\n",
       " 19      F1/3  10.10.19.2]"
      ]
     },
     "execution_count": 116,
     "metadata": {},
     "output_type": "execute_result"
    }
   ],
   "source": [
    "ip5r"
   ]
  },
  {
   "cell_type": "code",
   "execution_count": 66,
   "id": "6c5888db",
   "metadata": {
    "scrolled": false
   },
   "outputs": [
    {
     "name": "stdout",
     "output_type": "stream",
     "text": [
      "F1/0\n",
      "10.10.10.1\n",
      "F1/1\n",
      "10.10.11.1\n",
      "F1/2\n",
      "10.10.12.1\n",
      "F1/3\n",
      "10.10.13.1\n"
     ]
    }
   ],
   "source": [
    "for x,y in ipr1.values:\n",
    "    print(x)\n",
    "    print(y)"
   ]
  },
  {
   "cell_type": "code",
   "execution_count": 60,
   "id": "0cc44c41",
   "metadata": {},
   "outputs": [],
   "source": [
    "ipr1 = ip[\"ip\"].values"
   ]
  },
  {
   "cell_type": "code",
   "execution_count": 62,
   "id": "a5fa4a78",
   "metadata": {},
   "outputs": [
    {
     "data": {
      "text/plain": [
       "array(['10.10.10.1', '10.10.11.1', '10.10.12.1', '10.10.13.1'],\n",
       "      dtype=object)"
      ]
     },
     "execution_count": 62,
     "metadata": {},
     "output_type": "execute_result"
    }
   ],
   "source": [
    "ipr1[0:4]"
   ]
  },
  {
   "cell_type": "code",
   "execution_count": 132,
   "id": "dac7124d",
   "metadata": {},
   "outputs": [
    {
     "name": "stderr",
     "output_type": "stream",
     "text": [
      "Exception (client): Error reading SSH protocol banner[Errno 104] Connection reset by peer\n",
      "Traceback (most recent call last):\n",
      "  File \"/home/ega/anaconda3/lib/python3.9/site-packages/paramiko/transport.py\", line 2292, in _check_banner\n",
      "    buf = self.packetizer.readline(timeout)\n",
      "  File \"/home/ega/anaconda3/lib/python3.9/site-packages/paramiko/packet.py\", line 374, in readline\n",
      "    buf += self._read_timeout(timeout)\n",
      "  File \"/home/ega/anaconda3/lib/python3.9/site-packages/paramiko/packet.py\", line 601, in _read_timeout\n",
      "    x = self.__socket.recv(128)\n",
      "ConnectionResetError: [Errno 104] Connection reset by peer\n",
      "\n",
      "During handling of the above exception, another exception occurred:\n",
      "\n",
      "Traceback (most recent call last):\n",
      "  File \"/home/ega/anaconda3/lib/python3.9/site-packages/paramiko/transport.py\", line 2113, in run\n",
      "    self._check_banner()\n",
      "  File \"/home/ega/anaconda3/lib/python3.9/site-packages/paramiko/transport.py\", line 2296, in _check_banner\n",
      "    raise SSHException(\n",
      "paramiko.ssh_exception.SSHException: Error reading SSH protocol banner[Errno 104] Connection reset by peer\n",
      "\n"
     ]
    },
    {
     "ename": "SSHException",
     "evalue": "Error reading SSH protocol banner[Errno 104] Connection reset by peer",
     "output_type": "error",
     "traceback": [
      "\u001b[0;31m---------------------------------------------------------------------------\u001b[0m",
      "\u001b[0;31mConnectionResetError\u001b[0m                      Traceback (most recent call last)",
      "File \u001b[0;32m~/anaconda3/lib/python3.9/site-packages/paramiko/transport.py:2292\u001b[0m, in \u001b[0;36mTransport._check_banner\u001b[0;34m(self)\u001b[0m\n\u001b[1;32m   2291\u001b[0m \u001b[38;5;28;01mtry\u001b[39;00m:\n\u001b[0;32m-> 2292\u001b[0m     buf \u001b[38;5;241m=\u001b[39m \u001b[38;5;28;43mself\u001b[39;49m\u001b[38;5;241;43m.\u001b[39;49m\u001b[43mpacketizer\u001b[49m\u001b[38;5;241;43m.\u001b[39;49m\u001b[43mreadline\u001b[49m\u001b[43m(\u001b[49m\u001b[43mtimeout\u001b[49m\u001b[43m)\u001b[49m\n\u001b[1;32m   2293\u001b[0m \u001b[38;5;28;01mexcept\u001b[39;00m ProxyCommandFailure:\n",
      "File \u001b[0;32m~/anaconda3/lib/python3.9/site-packages/paramiko/packet.py:374\u001b[0m, in \u001b[0;36mPacketizer.readline\u001b[0;34m(self, timeout)\u001b[0m\n\u001b[1;32m    373\u001b[0m \u001b[38;5;28;01mwhile\u001b[39;00m linefeed_byte \u001b[38;5;129;01mnot\u001b[39;00m \u001b[38;5;129;01min\u001b[39;00m buf:\n\u001b[0;32m--> 374\u001b[0m     buf \u001b[38;5;241m+\u001b[39m\u001b[38;5;241m=\u001b[39m \u001b[38;5;28;43mself\u001b[39;49m\u001b[38;5;241;43m.\u001b[39;49m\u001b[43m_read_timeout\u001b[49m\u001b[43m(\u001b[49m\u001b[43mtimeout\u001b[49m\u001b[43m)\u001b[49m\n\u001b[1;32m    375\u001b[0m n \u001b[38;5;241m=\u001b[39m buf\u001b[38;5;241m.\u001b[39mindex(linefeed_byte)\n",
      "File \u001b[0;32m~/anaconda3/lib/python3.9/site-packages/paramiko/packet.py:601\u001b[0m, in \u001b[0;36mPacketizer._read_timeout\u001b[0;34m(self, timeout)\u001b[0m\n\u001b[1;32m    600\u001b[0m \u001b[38;5;28;01mtry\u001b[39;00m:\n\u001b[0;32m--> 601\u001b[0m     x \u001b[38;5;241m=\u001b[39m \u001b[38;5;28;43mself\u001b[39;49m\u001b[38;5;241;43m.\u001b[39;49m\u001b[43m__socket\u001b[49m\u001b[38;5;241;43m.\u001b[39;49m\u001b[43mrecv\u001b[49m\u001b[43m(\u001b[49m\u001b[38;5;241;43m128\u001b[39;49m\u001b[43m)\u001b[49m\n\u001b[1;32m    602\u001b[0m     \u001b[38;5;28;01mif\u001b[39;00m \u001b[38;5;28mlen\u001b[39m(x) \u001b[38;5;241m==\u001b[39m \u001b[38;5;241m0\u001b[39m:\n",
      "\u001b[0;31mConnectionResetError\u001b[0m: [Errno 104] Connection reset by peer",
      "\nDuring handling of the above exception, another exception occurred:\n",
      "\u001b[0;31mSSHException\u001b[0m                              Traceback (most recent call last)",
      "Input \u001b[0;32mIn [132]\u001b[0m, in \u001b[0;36m<cell line: 15>\u001b[0;34m()\u001b[0m\n\u001b[1;32m     16\u001b[0m ssh_client \u001b[38;5;241m=\u001b[39m paramiko\u001b[38;5;241m.\u001b[39mSSHClient()\n\u001b[1;32m     17\u001b[0m ssh_client\u001b[38;5;241m.\u001b[39mset_missing_host_key_policy(paramiko\u001b[38;5;241m.\u001b[39mAutoAddPolicy())\n\u001b[0;32m---> 18\u001b[0m \u001b[43mssh_client\u001b[49m\u001b[38;5;241;43m.\u001b[39;49m\u001b[43mconnect\u001b[49m\u001b[43m(\u001b[49m\u001b[43mhostname\u001b[49m\u001b[38;5;241;43m=\u001b[39;49m\u001b[43mssh\u001b[49m\u001b[43m,\u001b[49m\u001b[43musername\u001b[49m\u001b[38;5;241;43m=\u001b[39;49m\u001b[38;5;124;43m\"\u001b[39;49m\u001b[38;5;124;43msistel\u001b[39;49m\u001b[38;5;124;43m\"\u001b[39;49m\u001b[43m,\u001b[49m\u001b[43mpassword\u001b[49m\u001b[38;5;241;43m=\u001b[39;49m\u001b[38;5;124;43m\"\u001b[39;49m\u001b[38;5;124;43msistel\u001b[39;49m\u001b[38;5;124;43m\"\u001b[39;49m\u001b[43m)\u001b[49m\n\u001b[1;32m     20\u001b[0m conn \u001b[38;5;241m=\u001b[39m ssh_client\u001b[38;5;241m.\u001b[39minvoke_shell()\n\u001b[1;32m     22\u001b[0m conn\u001b[38;5;241m.\u001b[39msend(\u001b[38;5;124m\"\u001b[39m\u001b[38;5;124menable\u001b[39m\u001b[38;5;130;01m\\n\u001b[39;00m\u001b[38;5;124m\"\u001b[39m)\n",
      "File \u001b[0;32m~/anaconda3/lib/python3.9/site-packages/paramiko/client.py:451\u001b[0m, in \u001b[0;36mSSHClient.connect\u001b[0;34m(self, hostname, port, username, password, pkey, key_filename, timeout, allow_agent, look_for_keys, compress, sock, gss_auth, gss_kex, gss_deleg_creds, gss_host, banner_timeout, auth_timeout, channel_timeout, gss_trust_dns, passphrase, disabled_algorithms, transport_factory, auth_strategy)\u001b[0m\n\u001b[1;32m    448\u001b[0m     other_types \u001b[38;5;241m=\u001b[39m [x \u001b[38;5;28;01mfor\u001b[39;00m x \u001b[38;5;129;01min\u001b[39;00m sec_opts\u001b[38;5;241m.\u001b[39mkey_types \u001b[38;5;28;01mif\u001b[39;00m x \u001b[38;5;241m!=\u001b[39m keytype]\n\u001b[1;32m    449\u001b[0m     sec_opts\u001b[38;5;241m.\u001b[39mkey_types \u001b[38;5;241m=\u001b[39m [keytype] \u001b[38;5;241m+\u001b[39m other_types\n\u001b[0;32m--> 451\u001b[0m \u001b[43mt\u001b[49m\u001b[38;5;241;43m.\u001b[39;49m\u001b[43mstart_client\u001b[49m\u001b[43m(\u001b[49m\u001b[43mtimeout\u001b[49m\u001b[38;5;241;43m=\u001b[39;49m\u001b[43mtimeout\u001b[49m\u001b[43m)\u001b[49m\n\u001b[1;32m    453\u001b[0m \u001b[38;5;66;03m# If GSS-API Key Exchange is performed we are not required to check the\u001b[39;00m\n\u001b[1;32m    454\u001b[0m \u001b[38;5;66;03m# host key, because the host is authenticated via GSS-API / SSPI as\u001b[39;00m\n\u001b[1;32m    455\u001b[0m \u001b[38;5;66;03m# well as our client.\u001b[39;00m\n\u001b[1;32m    456\u001b[0m \u001b[38;5;28;01mif\u001b[39;00m \u001b[38;5;129;01mnot\u001b[39;00m \u001b[38;5;28mself\u001b[39m\u001b[38;5;241m.\u001b[39m_transport\u001b[38;5;241m.\u001b[39mgss_kex_used:\n",
      "File \u001b[0;32m~/anaconda3/lib/python3.9/site-packages/paramiko/transport.py:722\u001b[0m, in \u001b[0;36mTransport.start_client\u001b[0;34m(self, event, timeout)\u001b[0m\n\u001b[1;32m    720\u001b[0m     e \u001b[38;5;241m=\u001b[39m \u001b[38;5;28mself\u001b[39m\u001b[38;5;241m.\u001b[39mget_exception()\n\u001b[1;32m    721\u001b[0m     \u001b[38;5;28;01mif\u001b[39;00m e \u001b[38;5;129;01mis\u001b[39;00m \u001b[38;5;129;01mnot\u001b[39;00m \u001b[38;5;28;01mNone\u001b[39;00m:\n\u001b[0;32m--> 722\u001b[0m         \u001b[38;5;28;01mraise\u001b[39;00m e\n\u001b[1;32m    723\u001b[0m     \u001b[38;5;28;01mraise\u001b[39;00m SSHException(\u001b[38;5;124m\"\u001b[39m\u001b[38;5;124mNegotiation failed.\u001b[39m\u001b[38;5;124m\"\u001b[39m)\n\u001b[1;32m    724\u001b[0m \u001b[38;5;28;01mif\u001b[39;00m event\u001b[38;5;241m.\u001b[39mis_set() \u001b[38;5;129;01mor\u001b[39;00m (\n\u001b[1;32m    725\u001b[0m     timeout \u001b[38;5;129;01mis\u001b[39;00m \u001b[38;5;129;01mnot\u001b[39;00m \u001b[38;5;28;01mNone\u001b[39;00m \u001b[38;5;129;01mand\u001b[39;00m time\u001b[38;5;241m.\u001b[39mtime() \u001b[38;5;241m>\u001b[39m\u001b[38;5;241m=\u001b[39m max_time\n\u001b[1;32m    726\u001b[0m ):\n",
      "File \u001b[0;32m~/anaconda3/lib/python3.9/site-packages/paramiko/transport.py:2113\u001b[0m, in \u001b[0;36mTransport.run\u001b[0;34m(self)\u001b[0m\n\u001b[1;32m   2108\u001b[0m \u001b[38;5;28mself\u001b[39m\u001b[38;5;241m.\u001b[39mpacketizer\u001b[38;5;241m.\u001b[39mwrite_all(b(\u001b[38;5;28mself\u001b[39m\u001b[38;5;241m.\u001b[39mlocal_version \u001b[38;5;241m+\u001b[39m \u001b[38;5;124m\"\u001b[39m\u001b[38;5;130;01m\\r\u001b[39;00m\u001b[38;5;130;01m\\n\u001b[39;00m\u001b[38;5;124m\"\u001b[39m))\n\u001b[1;32m   2109\u001b[0m \u001b[38;5;28mself\u001b[39m\u001b[38;5;241m.\u001b[39m_log(\n\u001b[1;32m   2110\u001b[0m     DEBUG,\n\u001b[1;32m   2111\u001b[0m     \u001b[38;5;124m\"\u001b[39m\u001b[38;5;124mLocal version/idstring: \u001b[39m\u001b[38;5;132;01m{}\u001b[39;00m\u001b[38;5;124m\"\u001b[39m\u001b[38;5;241m.\u001b[39mformat(\u001b[38;5;28mself\u001b[39m\u001b[38;5;241m.\u001b[39mlocal_version),\n\u001b[1;32m   2112\u001b[0m )  \u001b[38;5;66;03m# noqa\u001b[39;00m\n\u001b[0;32m-> 2113\u001b[0m \u001b[38;5;28;43mself\u001b[39;49m\u001b[38;5;241;43m.\u001b[39;49m\u001b[43m_check_banner\u001b[49m\u001b[43m(\u001b[49m\u001b[43m)\u001b[49m\n\u001b[1;32m   2114\u001b[0m \u001b[38;5;66;03m# The above is actually very much part of the handshake, but\u001b[39;00m\n\u001b[1;32m   2115\u001b[0m \u001b[38;5;66;03m# sometimes the banner can be read but the machine is not\u001b[39;00m\n\u001b[1;32m   2116\u001b[0m \u001b[38;5;66;03m# responding, for example when the remote ssh daemon is loaded\u001b[39;00m\n\u001b[0;32m   (...)\u001b[0m\n\u001b[1;32m   2119\u001b[0m \u001b[38;5;66;03m# Make sure we can specify a timeout for the initial handshake.\u001b[39;00m\n\u001b[1;32m   2120\u001b[0m \u001b[38;5;66;03m# Re-use the banner timeout for now.\u001b[39;00m\n\u001b[1;32m   2121\u001b[0m \u001b[38;5;28mself\u001b[39m\u001b[38;5;241m.\u001b[39mpacketizer\u001b[38;5;241m.\u001b[39mstart_handshake(\u001b[38;5;28mself\u001b[39m\u001b[38;5;241m.\u001b[39mhandshake_timeout)\n",
      "File \u001b[0;32m~/anaconda3/lib/python3.9/site-packages/paramiko/transport.py:2296\u001b[0m, in \u001b[0;36mTransport._check_banner\u001b[0;34m(self)\u001b[0m\n\u001b[1;32m   2294\u001b[0m     \u001b[38;5;28;01mraise\u001b[39;00m\n\u001b[1;32m   2295\u001b[0m \u001b[38;5;28;01mexcept\u001b[39;00m \u001b[38;5;167;01mException\u001b[39;00m \u001b[38;5;28;01mas\u001b[39;00m e:\n\u001b[0;32m-> 2296\u001b[0m     \u001b[38;5;28;01mraise\u001b[39;00m SSHException(\n\u001b[1;32m   2297\u001b[0m         \u001b[38;5;124m\"\u001b[39m\u001b[38;5;124mError reading SSH protocol banner\u001b[39m\u001b[38;5;124m\"\u001b[39m \u001b[38;5;241m+\u001b[39m \u001b[38;5;28mstr\u001b[39m(e)\n\u001b[1;32m   2298\u001b[0m     )\n\u001b[1;32m   2299\u001b[0m \u001b[38;5;28;01mif\u001b[39;00m buf[:\u001b[38;5;241m4\u001b[39m] \u001b[38;5;241m==\u001b[39m \u001b[38;5;124m\"\u001b[39m\u001b[38;5;124mSSH-\u001b[39m\u001b[38;5;124m\"\u001b[39m:\n\u001b[1;32m   2300\u001b[0m     \u001b[38;5;28;01mbreak\u001b[39;00m\n",
      "\u001b[0;31mSSHException\u001b[0m: Error reading SSH protocol banner[Errno 104] Connection reset by peer"
     ]
    }
   ],
   "source": [
    "import paramiko\n",
    "import time\n",
    "import pandas as pd\n",
    "\n",
    "ip = pd.read_csv(\"IP5R.csv\")\n",
    "ipssh = pd.read_csv(\"ipssh.csv\").iloc[:,1:3]\n",
    "ipr1 = ip.iloc[:,1:3].loc[0:3]\n",
    "ipr2 = ip.iloc[:,1:3].loc[4:7]\n",
    "ipr3 = ip.iloc[:,1:3].loc[8:11]\n",
    "ipr4 = ip.iloc[:,1:3].loc[12:15]\n",
    "ipr5 = ip.iloc[:,1:3].loc[16:20]\n",
    "\n",
    "ip5r = [ipr1,ipr2,ipr3,ipr4,ipr5]\n",
    "n = 0\n",
    "for ssh in ipssh[\"ip\"]:\n",
    "    ssh_client = paramiko.SSHClient()\n",
    "    ssh_client.set_missing_host_key_policy(paramiko.AutoAddPolicy())\n",
    "    ssh_client.connect(hostname=ssh,username=\"sistel\",password=\"sistel\")\n",
    "\n",
    "    conn = ssh_client.invoke_shell()\n",
    "\n",
    "    conn.send(\"enable\\n\")\n",
    "    conn.send(\"cisco\\n\")\n",
    "    conn.send(\"conf t\\n\")\n",
    "    for interface,ip in ip5r[n].values:\n",
    "        conn.send(\"int \"+interface+\"\\n\")\n",
    "        conn.send(\"no sw\\n\")\n",
    "        conn.send(\"ip add \"+ip+\" 255.255.255.0\\n\")\n",
    "        conn.send(\"no sh\\n\")\n",
    "\n",
    "    #time.sleep(2)   ---> hilangkan pagar / komentar nya\n",
    "\n",
    "    output = conn.recv(65535)\n",
    "    print(output.decode(\"ascii\"))\n",
    "\n",
    "    ssh_client.close()"
   ]
  },
  {
   "cell_type": "code",
   "execution_count": 130,
   "id": "37393786",
   "metadata": {},
   "outputs": [
    {
     "name": "stdout",
     "output_type": "stream",
     "text": [
      "10.10.9.2\n",
      "F1/0\n",
      "10.10.10.1\n",
      "F1/1\n",
      "10.10.11.1\n",
      "F1/2\n",
      "10.10.12.1\n",
      "F1/3\n",
      "10.10.13.1\n",
      "ok\n",
      "10.10.10.2\n",
      "F1/0\n",
      "10.10.10.2\n",
      "F1/1\n",
      "10.10.14.1\n",
      "F1/2\n",
      "10.10.15.1\n",
      "F1/3\n",
      "10.10.16.1\n",
      "ok\n",
      "10.10.11.2\n",
      "F1/0\n",
      "10.10.11.2\n",
      "F1/1\n",
      "10.10.14.2\n",
      "F1/2\n",
      "10.10.17.1\n",
      "F1/3\n",
      "10.10.18.1\n",
      "ok\n",
      "10.10.12.2\n",
      "F1/0\n",
      "10.10.12.2\n",
      "F1/1\n",
      "10.10.15.2\n",
      "F1/2\n",
      "10.10.17.2\n",
      "F1/3\n",
      "10.10.19.1\n",
      "ok\n",
      "10.10.13.2\n",
      "F1/0\n",
      "10.10.13.2\n",
      "F1/1\n",
      "10.10.16.2\n",
      "F1/2\n",
      "10.10.18.2\n",
      "F1/3\n",
      "10.10.19.2\n",
      "ok\n"
     ]
    }
   ],
   "source": [
    "import paramiko\n",
    "import time\n",
    "import pandas as pd\n",
    "\n",
    "ip = pd.read_csv(\"IP5R.csv\")\n",
    "ipssh = pd.read_csv(\"ipssh.csv\").iloc[:,1:3]\n",
    "ipr1 = ip.iloc[:,1:3].loc[0:3]\n",
    "ipr2 = ip.iloc[:,1:3].loc[4:7]\n",
    "ipr3 = ip.iloc[:,1:3].loc[8:11]\n",
    "ipr4 = ip.iloc[:,1:3].loc[12:15]\n",
    "ipr5 = ip.iloc[:,1:3].loc[16:20]\n",
    "\n",
    "ip5r = [ipr1,ipr2,ipr3,ipr4,ipr5]\n",
    "n = 0\n",
    "for ssh in ipssh[\"ip\"]:\n",
    "    print(ssh)\n",
    "    for interface,ip in ip5r[n].values:\n",
    "        print(interface)\n",
    "        print(ip)    \n",
    "    print(\"ok\")\n",
    "    n = n+1"
   ]
  },
  {
   "cell_type": "code",
   "execution_count": null,
   "id": "3dbbb37a",
   "metadata": {},
   "outputs": [],
   "source": []
  },
  {
   "cell_type": "code",
   "execution_count": null,
   "id": "39d3a389",
   "metadata": {},
   "outputs": [],
   "source": []
  },
  {
   "cell_type": "code",
   "execution_count": null,
   "id": "9af9c4b9",
   "metadata": {},
   "outputs": [],
   "source": []
  }
 ],
 "metadata": {
  "kernelspec": {
   "display_name": "Python 3 (ipykernel)",
   "language": "python",
   "name": "python3"
  },
  "language_info": {
   "codemirror_mode": {
    "name": "ipython",
    "version": 3
   },
   "file_extension": ".py",
   "mimetype": "text/x-python",
   "name": "python",
   "nbconvert_exporter": "python",
   "pygments_lexer": "ipython3",
   "version": "3.9.12"
  }
 },
 "nbformat": 4,
 "nbformat_minor": 5
}
